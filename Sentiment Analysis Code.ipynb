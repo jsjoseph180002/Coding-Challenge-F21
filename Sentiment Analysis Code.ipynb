{
 "cells": [
  {
   "cell_type": "code",
   "execution_count": 64,
   "metadata": {},
   "outputs": [],
   "source": [
    "#getting input file \n",
    "input = open(\"input.txt\", \"r\")\n",
    "\n",
    "text = input.read()"
   ]
  },
  {
   "cell_type": "code",
   "execution_count": 65,
   "metadata": {},
   "outputs": [],
   "source": [
    "#separating file into sentences \n",
    "from nltk.tokenize import sent_tokenize\n",
    "\n",
    "sentences = sent_tokenize(text)\n"
   ]
  },
  {
   "cell_type": "code",
   "execution_count": 66,
   "metadata": {},
   "outputs": [
    {
     "name": "stdout",
     "output_type": "stream",
     "text": [
      "\"Stop blushing.\n",
      "Sentiment(polarity=0.0, subjectivity=0.0)\n",
      "{'neg': 0.688, 'neu': 0.312, 'pos': 0.0, 'compound': -0.296}\n",
      "I'm not needling, really I'm not.\n",
      "Sentiment(polarity=-0.1, subjectivity=0.2)\n",
      "{'neg': 0.0, 'neu': 1.0, 'pos': 0.0, 'compound': 0.0}\n",
      "Do you know, I\n",
      "had a dream an hour ago.\n",
      "Sentiment(polarity=0.0, subjectivity=0.0)\n",
      "{'neg': 0.0, 'neu': 0.778, 'pos': 0.222, 'compound': 0.25}\n",
      "I lay down for a cat-nap and in this dream\n",
      "you and I, Montag, got into a furious debate on books.\n",
      "Sentiment(polarity=-0.15555555555555559, subjectivity=0.2888888888888889)\n",
      "{'neg': 0.169, 'neu': 0.729, 'pos': 0.103, 'compound': -0.3506}\n",
      "You towered\n",
      "with rage, yelled quotes at me.\n",
      "Sentiment(polarity=0.0, subjectivity=0.0)\n",
      "{'neg': 0.34, 'neu': 0.66, 'pos': 0.0, 'compound': -0.5574}\n",
      "I calmly parried every thrust.\n",
      "Sentiment(polarity=0.30000000000000004, subjectivity=0.75)\n",
      "{'neg': 0.0, 'neu': 0.566, 'pos': 0.434, 'compound': 0.3182}\n",
      "Power, I\n",
      "said, And you, quoting Dr. Johnson, said `Knowledge is more than\n",
      "equivalent to force!'\n",
      "Sentiment(polarity=0.625, subjectivity=0.5)\n",
      "{'neg': 0.0, 'neu': 1.0, 'pos': 0.0, 'compound': 0.0}\n",
      "And I said, `Well, Dr. Johnson also said, dear boy,\n",
      "that \"He is no wise man that will quit a certainty for an uncertainty.'\"\n",
      "Sentiment(polarity=-0.35, subjectivity=0.9)\n",
      "{'neg': 0.079, 'neu': 0.645, 'pos': 0.276, 'compound': 0.6705}\n"
     ]
    }
   ],
   "source": [
    "#Testing impact of textblob and vader to see which works better\n",
    "from textblob import TextBlob\n",
    "from nltk.sentiment.vader import SentimentIntensityAnalyzer\n",
    "vader = SentimentIntensityAnalyzer() \n",
    "for i in range(8):  \n",
    "    print(sentences[i])\n",
    "    print(TextBlob(sentences[i]).sentiment)\n",
    "    print(vader.polarity_scores(sentences[i]))\n"
   ]
  },
  {
   "cell_type": "code",
   "execution_count": 67,
   "metadata": {},
   "outputs": [],
   "source": [
    "#From the data it seems due to the brevity of many of the sentences the Vader which seems to be\n",
    "#performing better. Now let us store the compound score for every sentence\n",
    "scores=[0] * 32\n",
    "for i in range(len(sentences)): \n",
    "    scores[i] = vader.polarity_scores(sentences[i])['compound']\n",
    "\n",
    "    "
   ]
  },
  {
   "cell_type": "code",
   "execution_count": 68,
   "metadata": {},
   "outputs": [],
   "source": [
    "#Converting the score into a scale of 1-5 where (-1,1) is separated in 5 equal components \n",
    "for i in range(len(scores)): \n",
    "    if (scores[i] > -1 and scores[i] <=-.6):\n",
    "        scores[i] = 1\n",
    "    if (scores[i] > -.6 and scores[i] <=-.2):\n",
    "        scores[i] = 2\n",
    "    if (scores[i] > -.2 and scores[i] <=.2):\n",
    "        scores[i] = 3\n",
    "    if (scores[i] > .2 and scores[i] <=.6):\n",
    "        scores[i] = 4\n",
    "    if (scores[i] > .6 and scores[i] <=1):\n",
    "        scores[i] = 5\n",
    "\n"
   ]
  },
  {
   "cell_type": "code",
   "execution_count": 69,
   "metadata": {},
   "outputs": [
    {
     "name": "stdout",
     "output_type": "stream",
     "text": [
      "Sentence 0: 2\n",
      "Sentence 1: 3\n",
      "Sentence 2: 4\n",
      "Sentence 3: 2\n",
      "Sentence 4: 2\n",
      "Sentence 5: 4\n",
      "Sentence 6: 3\n",
      "Sentence 7: 5\n",
      "Sentence 8: 3\n",
      "Sentence 9: 2\n",
      "Sentence 10: 3\n",
      "Sentence 11: 2\n",
      "Sentence 12: 3\n",
      "Sentence 13: 3\n",
      "Sentence 14: 4\n",
      "Sentence 15: 5\n",
      "Sentence 16: 5\n",
      "Sentence 17: 5\n",
      "Sentence 18: 3\n",
      "Sentence 19: 5\n",
      "Sentence 20: 2\n",
      "Sentence 21: 4\n",
      "Sentence 22: 3\n",
      "Sentence 23: 3\n",
      "Sentence 24: 3\n",
      "Sentence 25: 4\n",
      "Sentence 26: 5\n",
      "Sentence 27: 5\n",
      "Sentence 28: 5\n",
      "Sentence 29: 5\n",
      "Sentence 30: 5\n",
      "Sentence 31: 4\n",
      "3.625\n"
     ]
    }
   ],
   "source": [
    "import numpy as np\n",
    "#Printing Sentence Results\n",
    "for i in range(len(scores)): \n",
    "    print(\"Sentence \" + str(i) + \": \" + str(scores[i]))\n",
    "\n",
    "#printing overall score\n",
    "print(np.mean(scores))\n",
    "    "
   ]
  },
  {
   "cell_type": "code",
   "execution_count": null,
   "metadata": {},
   "outputs": [],
   "source": []
  }
 ],
 "metadata": {
  "kernelspec": {
   "display_name": "Python 3",
   "language": "python",
   "name": "python3"
  },
  "language_info": {
   "codemirror_mode": {
    "name": "ipython",
    "version": 3
   },
   "file_extension": ".py",
   "mimetype": "text/x-python",
   "name": "python",
   "nbconvert_exporter": "python",
   "pygments_lexer": "ipython3",
   "version": "3.9.0"
  }
 },
 "nbformat": 4,
 "nbformat_minor": 4
}
